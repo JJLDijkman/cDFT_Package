{
 "cells": [
  {
   "cell_type": "markdown",
   "metadata": {},
   "source": [
    "<center><h1>Tutorial 3 - Measures </h1>\n",
    "<br>Mary K. Coe <br>\n",
    "21 Nov 2021</center>\n",
    "\n",
    "By the end of this tutorial you will be able to\n",
    "    - Calculate various thermodynamic measures within a DFT system.\n",
    "    - Find the liquid-vapour surface tension of a fluid.\n",
    "    - Calculate various fluctuation profiles."
   ]
  },
  {
   "cell_type": "markdown",
   "metadata": {},
   "source": [
    "<h3>Introduction</h3>\n",
    "This tutorial assumes that you already have a general understanding of what classical density functional theory (cDFT) is and how it works, and that <b>you have completed Tutorial 1 - Hard-Sphere Fluids and Tutorial 2 - Lennard-Jones Fluids</b>. If you require more background, please consult the following resources.\n",
    "\n",
    "<a href = \"https://doi.org/10.1080/00018737900101365\"> R. Evans, Advances in Physics <b>28</b>, 143-200 (1979)</a> - This is a famous review article by Prof Bob Evans which covers most of the maths behind cDFT.\n",
    "\n",
    "<a href=\"https://doi.org/10.1088/0953-8984/22/6/063102\">R Roth, J. Phys.:Condens. Matter <b>22</b>, 0631102 (2010)</a> - This is a review article by Prof Roland Roth which covers the theory and implementation of Fundamental Measure Theory (FMT). This also describes all functionals available within the package.\n",
    "\n",
    "<a href = https://research-information.bris.ac.uk/ws/portalfiles/portal/304220732/Thesis_Mary_Coe.pdf>M. K. Coe, \"Hydrophobicity across length scales: The role of surface criticality\", PhD thesis, (University of Bristol, 2021)</a> - My thesis. Chapter 4 as well as Appendices A-C cover the implementation of cDFT within this package in depth.\n",
    "\n",
    "In addition to a basic knowledge of cDFT, you will need a Python installation with the standard libraries, as well as the <i>NumPy</i>, <i>SciPy</i>, <i>Matplotlib</i> and <i>pyfftw</i> libraries. The latter of these is the python wrapper for the fast fourier transforms library, FFTW. \n",
    "\n",
    "<b>Warning</b> - I have noticed that pyfftw does not respect core allocation on nodes on a cluster. For example, if you request one core on one node, pyfftw appears to automatically use all cores within the node. If using the package on a cluster, it is therefore recommended you run it using mpiexec or equivalent, to force it to use only the requested number of cores.\n",
    "\n",
    "With this in mind, we begin the tutorial by importing necessary libraries."
   ]
  },
  {
   "cell_type": "code",
   "execution_count": 1,
   "metadata": {},
   "outputs": [],
   "source": [
    "# Import necessary libraries for tutorial\n",
    "import numpy as np\n",
    "\n",
    "import matplotlib.pyplot as plt\n",
    "import matplotlib.colors\n",
    "\n",
    "import cDFT.minimisation as minimise\n",
    "import cDFT.measures as measure"
   ]
  },
  {
   "cell_type": "markdown",
   "metadata": {},
   "source": [
    "<h3>Thermodynamic Measures</h3>\n",
    "In the previous tutorials, we looked at how to find the equilibrium density profiles of various fluids subjected to various external potentials and walls. The purpose of this tutorial is to show you how we can use these profiles to calculate other measures of the system.\n",
    "\n",
    "<h4>Bulk Measures - Pressure and Chemical Potential</h4>\n",
    "Measures such as the pressure and chemical potential are calculated when defining a <i>DFT</i> object. They can be accessed as follows"
   ]
  },
  {
   "cell_type": "code",
   "execution_count": 2,
   "metadata": {},
   "outputs": [
    {
     "name": "stdout",
     "output_type": "stream",
     "text": [
      "Fluid type: truncated Lennard-Jones fluid with cut-off radius of interaction 2.5 * diameter of a fluid particle\n",
      "Temperature: 1.02257\n",
      "Density of bulk fluid: 0.59803\n",
      "Functional: Rosenfeld\n",
      "Length of grid: 50.0 * diameter of a fluid particle\n",
      "Distance between grid points: 0.001 * diameter of a fluid particle\n"
     ]
    }
   ],
   "source": [
    "LJ = minimise.DFT(bulk_density = 0.59803, # Density at a slight oversaturation\n",
    "                  temperature = 1.02257,  # Equivalent to 0.775Tc\n",
    "                  fluid_type = 'TLJ',     # Truncated Lennard-ones fluid\n",
    "                  cut_off = 2.5           # Cut-off radius of interaction\n",
    "                 )\n",
    "\n",
    "LJ.information()"
   ]
  },
  {
   "cell_type": "code",
   "execution_count": 3,
   "metadata": {},
   "outputs": [
    {
     "name": "stdout",
     "output_type": "stream",
     "text": [
      "Pressure = 0.029678699281701082\n",
      "Excess Chemical Potential = -3.2749077381595972\n",
      "Ideal Chemical Potential = -0.5257179201498724\n",
      "Chemical Potential = -3.8006256583094697\n"
     ]
    }
   ],
   "source": [
    "pressure = LJ.pressure\n",
    "excess_chemical_potential = LJ.mu\n",
    "ideal_chemical_potential = LJ.T*np.log(LJ.bulk_density)\n",
    "\n",
    "print(f'Pressure = {pressure}')\n",
    "print(f'Excess Chemical Potential = {excess_chemical_potential}')\n",
    "print(f'Ideal Chemical Potential = {ideal_chemical_potential}')\n",
    "print(f'Chemical Potential = {excess_chemical_potential+ideal_chemical_potential}')"
   ]
  },
  {
   "cell_type": "markdown",
   "metadata": {},
   "source": [
    "The pressure calculated within <i>LJ</i> contains both the ideal and excess components. In contrast, the chemical potential (<i>LJ.mu</i>) calculated within <i>LJ</i> is the excess component only. This is because the DFT minimisation procedure requires only the excess component. The ideal component of the chemical potential can be calculated by multiplying the reduced temperature (<i>LJ.T</i>) by the log of the bulk density. The full chemical potential is then found by adding the excess and ideal components.\n",
    "\n",
    "Accessing these measures is simpler if you have already defined a geometry to work in. For example, within the planar geometry, these can be found using the following methods."
   ]
  },
  {
   "cell_type": "code",
   "execution_count": 4,
   "metadata": {},
   "outputs": [
    {
     "name": "stdout",
     "output_type": "stream",
     "text": [
      "Pressure = 0.029678699281701082\n",
      "Excess Chemical Potential = -3.2749077381595972\n",
      "Ideal Chemical Potential = -0.5257179201498724\n",
      "Chemical Potential = -3.8006256583094697\n"
     ]
    }
   ],
   "source": [
    "planar = minimise.planar(LJ, wall_type = 'SLJ', epsilon_wall = 0.5)\n",
    "\n",
    "pressure = planar.pressure()\n",
    "excess_chemical_potential = planar.chemical_potential(excess = True)\n",
    "ideal_chemical_potential = planar.chemical_potential(ideal = True)\n",
    "chemical_potential = planar.chemical_potential()\n",
    "\n",
    "print(f'Pressure = {pressure}')\n",
    "print(f'Excess Chemical Potential = {excess_chemical_potential}')\n",
    "print(f'Ideal Chemical Potential = {ideal_chemical_potential}')\n",
    "print(f'Chemical Potential = {chemical_potential}')"
   ]
  },
  {
   "cell_type": "markdown",
   "metadata": {},
   "source": [
    "Please note, if both <i>excess</i> and <i>ideal</i> are set to true in the <i>chemical_potential</i> method, both are returned in the form <i>excess_chemical_potential, ideal_chemical_potential</i>.\n",
    "\n",
    "<h4>Surface Measures - Surface Tension, Adsorption, Contact Density</h4>\n",
    "    \n",
    "Surface measures can only be found once a geometry object has been defined, and will only produce sensible results if the equilibrium profile has first been found. The safest way to evaluate these measures is to use the methods within the geometry objects. "
   ]
  },
  {
   "cell_type": "code",
   "execution_count": 5,
   "metadata": {},
   "outputs": [
    {
     "name": "stdout",
     "output_type": "stream",
     "text": [
      "Convergence achieved in 247 attempts.\n"
     ]
    }
   ],
   "source": [
    "# First find the equilibrium profile\n",
    "planar.minimise()"
   ]
  },
  {
   "cell_type": "code",
   "execution_count": 6,
   "metadata": {},
   "outputs": [
    {
     "name": "stdout",
     "output_type": "stream",
     "text": [
      "Grand Potential = -1.2595017938179902\n",
      "Surface Tension = 0.22443317026706391\n",
      "Adsorption = -0.6454890319579266\n",
      "Contact Density = 0.1438449693682311\n"
     ]
    }
   ],
   "source": [
    "# These methods have the additional option of writing the\n",
    "# result to the output file.\n",
    "grand_potential = planar.grand_potential(write_to_file = False)\n",
    "surface_tension = planar.surface_tension(write_to_file = False)\n",
    "\n",
    "# The results of these measures are automatically written\n",
    "# to the output file during the minimisation process.\n",
    "adsorption = planar.adsorption()\n",
    "contact_density = planar.contact_density()\n",
    "\n",
    "print(f'Grand Potential = {grand_potential}')\n",
    "print(f'Surface Tension = {surface_tension}')\n",
    "print(f'Adsorption = {adsorption}')\n",
    "print(f'Contact Density = {contact_density}')"
   ]
  },
  {
   "cell_type": "markdown",
   "metadata": {},
   "source": [
    "Note that within the package, the adsorption and surface tension are defined from the accessible volume - e.g. where the density profile is allowed to be non-zero. \n",
    "\n",
    "An alternative method to find these measures is to directly call various measure functions from the <i>measures</i> module. These functions take a <i>planar</i>, <i>spherical</i> or <i>slit</i> object as a required argument and two bools, <i>pout</i> (short for print out) and <i>fout</i> (short for file out), as optional arguments. These latter two determine whether to output the results of the measures to the screen or to the output file respectively. Note calling these functions directly from the measures module will mean the package does not first check that the equilibrium profile has been found."
   ]
  },
  {
   "cell_type": "code",
   "execution_count": 7,
   "metadata": {},
   "outputs": [
    {
     "name": "stdout",
     "output_type": "stream",
     "text": [
      "Grand Potential = -1.25950\n",
      "Surface Tension = 0.22443\n",
      "Adsorption = -0.64549\n",
      "Contact Density = 0.14384\n"
     ]
    }
   ],
   "source": [
    "grand_potential = measure.grand_potential(planar, pout = True, fout = True)\n",
    "surface_tension = measure.surface_tension(planar, pout = True, fout = True)\n",
    "adsorption = measure.adsorption(planar, pout = True, fout = True)\n",
    "\n",
    "# Note that the contact density does not have a measure function.\n",
    "# Instead you can find it using\n",
    "contact_density = planar.DFT.density[planar.NiW]\n",
    "print(f'Contact Density = {contact_density:.5f}')"
   ]
  },
  {
   "cell_type": "markdown",
   "metadata": {},
   "source": [
    "Whilst we have demonstrated these measures for the <i>planar</i> geometry, they are available in all geometries.\n",
    "\n",
    "<h3>Liquid-Vapour Surface Tension</h3>\n",
    "\n",
    "The <i>measures</i> module features a function to find the liquid-vapour surface tension of a Lennard-Jones fluid. As required arguments, this function takes the temperature, vapour density and liquid density. As optional arguments, the hard-sphere function, cut-off and output file path may be specified. Note - it is important that you give the function accurate values for the coexisting liquid and vapour densities at the temperature of interest. If these are not highly accurate, the results of the function will be spurious."
   ]
  },
  {
   "cell_type": "code",
   "execution_count": 8,
   "metadata": {},
   "outputs": [
    {
     "name": "stdout",
     "output_type": "stream",
     "text": [
      "100 complete. Deviation: 0.0010453110821239675\n",
      "\n",
      "200 complete. Deviation: 0.0006477881010000242\n",
      "\n",
      "300 complete. Deviation: 0.00039970355385482437\n",
      "\n",
      "400 complete. Deviation: 0.0002461757120754693\n",
      "\n",
      "500 complete. Deviation: 0.00015158234329687437\n",
      "\n",
      "600 complete. Deviation: 9.340646614308667e-05\n",
      "\n",
      "700 complete. Deviation: 5.764060189261677e-05\n",
      "\n",
      "800 complete. Deviation: 3.564007533701785e-05\n",
      "\n",
      "900 complete. Deviation: 2.2090847975664296e-05\n",
      "\n",
      "1000 complete. Deviation: 1.3732223826834478e-05\n",
      "\n",
      "1100 complete. Deviation: 3.699476347485131e-08\n",
      "\n",
      "1200 complete. Deviation: 2.474294980014946e-08\n",
      "\n",
      "1300 complete. Deviation: 1.7102287697134955e-08\n",
      "\n",
      "1400 complete. Deviation: 1.2261367920984867e-08\n",
      "\n",
      "1500 complete. Deviation: 8.93248475186681e-09\n",
      "\n",
      "1600 complete. Deviation: 6.566753585346419e-09\n",
      "\n",
      "1700 complete. Deviation: 4.890430505000154e-09\n",
      "\n",
      "1800 complete. Deviation: 3.6334955044736716e-09\n",
      "\n",
      "1900 complete. Deviation: 2.6950061071673304e-09\n",
      "\n",
      "2000 complete. Deviation: 1.9965959996426363e-09\n",
      "\n",
      "2100 complete. Deviation: 1.4263923375779086e-11\n",
      "\n",
      "2200 complete. Deviation: 1.0137779504759692e-11\n",
      "\n",
      "2300 complete. Deviation: 7.268408097615975e-12\n",
      "\n",
      "2400 complete. Deviation: 5.262457136723242e-12\n",
      "\n",
      "2500 complete. Deviation: 3.842703932832592e-12\n",
      "\n",
      "2600 complete. Deviation: 2.830402578979374e-12\n",
      "\n",
      "2700 complete. Deviation: 2.0937696021405827e-12\n",
      "\n",
      "2800 complete. Deviation: 1.5535350783579815e-12\n",
      "\n",
      "2900 complete. Deviation: 1.155520124029863e-12\n",
      "\n",
      "Convergence achieved in 2950 attempts.\n",
      "Liquid Vapour Surface Tension: 0.263165141833\n"
     ]
    }
   ],
   "source": [
    "lv_surface_tension = measure.liquid_vapour_surface_tension(\n",
    "                        temperature = 1.0225672588,\n",
    "                        vapour_density = 0.0343066397783,\n",
    "                        liquid_density = 0.597844705492,\n",
    "                        functional='RF',\n",
    "                        cut_off = 2.5,\n",
    "                        file_path = './Surface_Tension/')"
   ]
  },
  {
   "cell_type": "markdown",
   "metadata": {},
   "source": [
    "<h3>Fluctuation Profiles</h3>\n",
    "\n",
    "In recent years several measures of local density fluctuations have been proposed. The package implements two of these, called the local compressibility ($\\chi_{\\mu}$) and local thermal susceptibility ($\\chi_T$), defined as\n",
    "\\begin{equation}\n",
    "    \\chi_{\\mu}(\\mathbf{r}) = \\left(\\frac{\\partial\\rho(\\mathbf{r})}{\\partial \\mu}\\right)_{T} \\qquad\\qquad \\chi_T(\\mathbf{r}) = \\left(\\frac{\\partial\\rho(\\mathbf{r})}{\\partial T}\\right)_{\\mu}\n",
    "\\end{equation}\n",
    "where $\\rho(\\mathbf{r})$ is the density profile of the fluid, $T$ is the temperature and $\\mu$ is the chemical potential. For more information on the local compressibility, see <a href = https://doi.org/10.1088/0953-8984/27/19/194111>this paper</a>. For more information of the local thermal susceptibility, please see <a href = https://doi.org/10.1103/PhysRevLett.125.268004>this paper</a>.\n",
    "\n",
    "$\\chi_{\\mu}$ and $\\chi_T$ can be evaluated during the minimisation process to find the equilibrium density profile by setting the <i>compressibility</i> and <i>susceptibility</i> flags to <i>True</i>. If these profiles have been found, they will be returned when calling the <i>equilibrium_profile</i> method. Below we demonstrate these fluctuation profiles for a truncated Lennard-Jones fluid in contact with an attractive planar wall."
   ]
  },
  {
   "cell_type": "code",
   "execution_count": 9,
   "metadata": {},
   "outputs": [
    {
     "name": "stdout",
     "output_type": "stream",
     "text": [
      "1000 complete. Deviation: 5.542041209283255e-08\n",
      "\n",
      "2000 complete. Deviation: 1.6584233986094432e-11\n",
      "\n",
      "Convergence achieved in 2362 attempts.\n"
     ]
    },
    {
     "data": {
      "image/png": "[encoded data removed]",
      "text/plain": [
       "<Figure size 432x360 with 2 Axes>"
      ]
     },
     "metadata": {
      "needs_background": "light"
     },
     "output_type": "display_data"
    }
   ],
   "source": [
    "def plot_profiles(planar):\n",
    "    \"\"\"\n",
    "    Plots the density, local compressibility and\n",
    "    local thermal susceptibility profiles for a\n",
    "    planar object.\n",
    "    \n",
    "    Parameters\n",
    "    ----------\n",
    "    planar: minimise.planar object\n",
    "        Planar object with minimise method called.\n",
    "        \n",
    "    Returns\n",
    "    -------\n",
    "    None.\n",
    "    \"\"\"\n",
    "    \n",
    "    fig = plt.figure(figsize = (6,5))\n",
    "    gs = fig.add_gridspec(ncols=1, nrows = 2, height_ratios = [4,1])\n",
    "    \n",
    "    # Define density and fluctuation axes\n",
    "    ax_dens = fig.add_subplot(gs[1,0])\n",
    "    ax_fluc = fig.add_subplot(gs[0,0])\n",
    "    \n",
    "    # Get profiles\n",
    "    z, density, compressibility, susceptibility = planar.equilibrium_profile()\n",
    "    \n",
    "    # Get bulk values for scaling\n",
    "    bulk_density = planar.DFT.bulk_density\n",
    "    bulk_compressibility = planar.bulk_compressibility\n",
    "    bulk_susceptibility = planar.bulk_susceptibility\n",
    "    \n",
    "    # Find number of grid points to use\n",
    "    L = int(10./planar.DFT.dr)\n",
    "    \n",
    "    # Plot density profile\n",
    "    ax_dens.plot(z[:L], density[:L]/bulk_density, color = 'forestgreen', ls = 'solid')\n",
    "    \n",
    "    # Axes parameters\n",
    "    ax_dens.set_xlim(0.0,10.0)\n",
    "    ax_dens.tick_params(which = 'both', direction = 'in', pad = 6, top = True, right = True)\n",
    "    ax_dens.set_xlabel(r'$z/\\sigma$')\n",
    "    ax_dens.set_ylabel(r'$\\rho(z)/\\rho_b$')\n",
    "\n",
    "    # Plot fluctuation profiles\n",
    "    ax_fluc.plot(z[:L], compressibility[:L]/bulk_compressibility,\n",
    "                 color = 'cornflowerblue', ls = '-.', label = r'$\\chi_{\\mu}$')\n",
    "    ax_fluc.plot(z[:L], susceptibility[:L]/bulk_susceptibility,\n",
    "                 color = 'mediumvioletred', ls = 'dashed', label = r'$\\chi_{T}$')\n",
    "    \n",
    "    max_compressibility = np.amax(compressibility[:L]/bulk_compressibility)\n",
    "    maxy = 10.*np.ceil(max_compressibility/10.)\n",
    "\n",
    "    # Axes parameters\n",
    "    ax_fluc.set_xlim(0.0,10.0)\n",
    "    ax_fluc.set_ylim(0.0,maxy)\n",
    "    ax_fluc.tick_params(which = 'both', direction = 'in', top = True, right = True, pad = 6)\n",
    "    ax_fluc.set_xticklabels([])\n",
    "    ax_fluc.set_ylabel(r'$\\chi_{x}(z)/\\chi_{x,b}$')\n",
    "\n",
    "    # Add inset to fluctuations plot\n",
    "    ax_inset = ax_fluc.inset_axes([0.63,0.38,0.34,0.57])\n",
    "    ax_inset.plot(z[:L], compressibility[:L], color = 'cornflowerblue', ls = '-.')\n",
    "    ax_inset.plot(z[:L], susceptibility[:L], color = 'mediumvioletred', ls = 'dashed')\n",
    "\n",
    "    # Inset axes parameters\n",
    "    ax_inset.set_xlim(0.0,10.0)\n",
    "\n",
    "    ax_inset.tick_params(which = 'both', direction = 'in', top = True, right = True, pad = 4)\n",
    "    ax_inset.set_ylabel(r'$\\chi_{x}$', fontsize = 11)\n",
    "\n",
    "    ax_fluc.legend(frameon=False, ncol = 2, loc = 'upper left')\n",
    "    \n",
    "    \n",
    "planar = minimise.planar(LJ,\n",
    "                        wall_type = 'SLJ',\n",
    "                        epsilon_wall = 0.1,\n",
    "                        compressibility = True,\n",
    "                        susceptibility = True\n",
    "                        )\n",
    "\n",
    "planar.minimise()\n",
    "plot_profiles(planar)"
   ]
  },
  {
   "cell_type": "markdown",
   "metadata": {},
   "source": [
    "These fluctuation profiles are also written to the output file under the headings <i>chi_mu</i> and <i>chi_mu/chi_mu_bulk</i> for the local compressibility and under <i>chi_T</i> and <i>chi_T/chi_T_bulk</i> for the local thermal susceptibility. These measures are also availble in the spherical and slit geometries.\n",
    "\n",
    "<h3>Summary</h3>\n",
    "\n",
    "Within these three tutorials we have explored the basic functions of the package for hard-sphere fluids (Tutorial 1), Lennard-Jones fluids (Tutorial 2) and the available measures (this tutorial). You should now have enough understanding to make good use of the package. Enjoy!\n",
    "\n",
    "If you want to see some of the things this package has been used for, check out these references:\n",
    "\n",
    "M. K. Coe, \"Hydrophobicity across length scales: The role of surface criticality\", PhD thesis, (University of Bristol, 2021) - (available Dec 2021)\n",
    "\n",
    "<i>We are currently preparing several papers - these will be added when available.</i>"
   ]
  }
 ],
 "metadata": {
  "kernelspec": {
   "display_name": "Python 3 (ipykernel)",
   "language": "python",
   "name": "python3"
  },
  "language_info": {
   "codemirror_mode": {
    "name": "ipython",
    "version": 3
   },
   "file_extension": ".py",
   "mimetype": "text/x-python",
   "name": "python",
   "nbconvert_exporter": "python",
   "pygments_lexer": "ipython3",
   "version": "3.9.7"
  }
 },
 "nbformat": 4,
 "nbformat_minor": 4
}
