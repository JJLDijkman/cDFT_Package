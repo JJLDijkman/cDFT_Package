{
 "cells": [
  {
   "cell_type": "markdown",
   "metadata": {},
   "source": [
    "<center><h1>Tutorial 1 - Hard-Sphere Fluids </h1>\n",
    "<br>Mary K. Coe <br>\n",
    "23 Oct 2021</center>\n",
    "\n",
    "By the end of this tutorial you will be able to\n",
    "    - Obtain the equilibrium density profile of a hard-sphere fluid in contact with a wall, solute or confined in a slit.\n",
    "    - Plot this density profile.\n",
    "    - Determine the numerical consistency of the density profile using two sum rules.\n"
   ]
  },
  {
   "cell_type": "markdown",
   "metadata": {},
   "source": [
    "<h3>Introduction</h3>\n",
    "This tutorial assumes that you already have a general understanding of what classical density functional theory (cDFT) is and how it works. If this is not the case, then it is recommended you check out the following references\n",
    "\n",
    "<a href = \"https://doi.org/10.1080/00018737900101365\"> R. Evans, Advances in Physics <b>28</b>, 143-200 (1979)</a> - This is a famous review article by Prof Bob Evans which covers most of the maths behind cDFT.\n",
    "\n",
    "<a href=\"https://doi.org/10.1088/0953-8984/22/6/063102\">R Roth, J. Phys.:Condens. Matter <b>22</b>, 0631102 (2010)</a> - This is a review article by Prof Roland Roth which covers the theory and implementation of Fundamental Measure Theory (FMT). This also describes all functionals available within the package.\n",
    "\n",
    "<a href = https://research-information.bris.ac.uk/ws/portalfiles/portal/304220732/Thesis_Mary_Coe.pdf>M. K. Coe, \"Hydrophobicity across length scales: The role of surface criticality\", PhD thesis, (University of Bristol, 2021)</a> - My thesis. Chapter 4 as well as Appendices A-C cover the implementation of cDFT within this package in depth.\n",
    "\n",
    "Within this tutorial, you will learn how to use the cDFT package to find the equilibrium density profiles of one-component hard-sphere fluids in contact with hard planar walls, hard spherical walls (or solutes) and confined to a slit with hard walls. This package implements cDFT as described in the articles by Evans and Roth, using Rosenfeld's FMT to describe the excess Helmholtz free energy of the hard-sphere fluid. This package supports three functionals - the original <a href = \"https://doi.org/10.1103/PhysRevLett.63.980\">Rosenfeld functional</a>, the <a href=\"https://doi.org/10.1088/0953-8984/14/46/313\">White-Bear functional</a> and the <a href=\"https://doi.org/10.1088/0953-8984/18/37/002\">White-Bear Mark II functional</a>. Within this tutorial, we will cover each of these.\n",
    "\n",
    "In addition to a basic knowledge of cDFT, you will need a Python installation with the standard libraries, as well as the <i>NumPy</i>, <i>SciPy</i>, <i>Matplotlib</i> and <i>pyfftw</i> libraries. The latter of these is the python wrapper for the fast fourier transforms library, FFTW. \n",
    "\n",
    "<b>Warning</b> - I have noticed that pyfftw does not respect core allocation on nodes on a cluster. For example, if you request one core on one node, pyfftw appears to automatically use all cores within the node. If using the package on a cluster, it is therefore recommended you run it using mpiexec or equivalent, to force it to use only the requested number of cores.\n",
    "\n",
    "With this in mind, we begin the tutorial by importing necessary libraries."
   ]
  },
  {
   "cell_type": "code",
   "execution_count": 1,
   "metadata": {},
   "outputs": [],
   "source": [
    "# Import necessary libraries for tutorial\n",
    "import numpy as np\n",
    "\n",
    "import matplotlib.pyplot as plt\n",
    "import matplotlib.colors"
   ]
  },
  {
   "cell_type": "markdown",
   "metadata": {},
   "source": [
    "<h3>Package Layout</h3>\n",
    "\n",
    "The cDFT package consists of six modules. Of these, only two need actually be called in order to perform cDFT - all others are for internal operations and therefore are likely only of interest to developers.\n",
    "\n",
    "The two modules used regularly when performing cDFT are <i>cDFT.minimisation</i> and <i>cDFT.measures</i>. The first of these holds objects specifically relating to the minimisation procedure, whilst the second contains measures which may be of interest, such as the surface tension and grand potential. It should be noted that many of the measures of interest can actually be calculated during the minimisation procedure by supplying various flags to the minimisation objects. These will be introduced throughout these tutorials.\n",
    "\n",
    "The <i>cDFT.minimisation</i> modules contains four objects which control various aspects of the cDFT minimisation procedure. These are split into geometry-specifc objects, which control whether a planar wall, spherical wall or slit should be considered, and a non-geometry specific object, <i>cDFT.minimisation.DFT</i>, which controls fluid and grid parameters. The general procedure is to define a <i>cDFT.minimisation.DFT</i> and then supply this to a geometry -specific object (<i>cDFT.minimisation.planar</i>,<i>cDFT.minimisation.spherical</i> or <i>cDFT.minimisation.slit</i>). These latter objects contain <i>minimise</i> methods which allow for the equilibrium density profile to be found.\n",
    "\n",
    "This tutorial is set out as follows. Firstly, we consider a hard-sphere fluid in contact with a planar hard wall and investigate the functionals available. We then consider spherical hard walls of various radii, before finally studying a hard-sphere fluid within a slit. <b>It should be noted that this package only supports one-component fluids and smooth walls.</b> This allows it to be efficient, as the equilibrium density profile will vary along only one axis and hence only a one-dimensional grid is required. For more information, see <a href=\"https://doi.org/10.1088/0953-8984/22/6/063102\">R Roth, J. Phys.:Condens. Matter <b>22</b>, 0631102 (2010)</a>."
   ]
  },
  {
   "cell_type": "markdown",
   "metadata": {},
   "source": [
    "<h3>How to Read the Output Files</h3>\n",
    "\n",
    "Whenever you call the <i>minimise</i> method (see below), an output file will be generated and saved. By default, this is saved to a folder called <i>cDFT_Results</i> however you can specify the desired output folder using the <i>file_path</i> parameter, available for all geometries discussed below. The name of the output file takes the form: \n",
    "\n",
    "(geometry abbreviation)(wall type(s))\\_(fluid type)\\_(radius of wall if applicable)\\_(bulk density)\\_(temperature)\\_(hard-sphere functional abbreviation)\n",
    "\n",
    "The geometry abbreviations are <i>P</i> for a planar wall, <i>S</i> for a spherical wall (solute) and <i>SL</i> for a slit. All other abbreviations are explained as you progress through the tutorials.\n",
    "\n",
    "The output file is structured as follows:\n",
    "\n",
    "<b>Header</b> - The header to the output file contains information about the system such as the geometry, the temperature (T), density, grid size in units of fluid particle diameters (L), number of grid points (N), distance between grid points in units of fluid particle diameters (dr) and more. \n",
    "\n",
    "<b>Profile</b> - After the header, the equilibrium profile is printed. This is structured as grid_point (i) physical distance (r) density (rho) density scaled by bulk density (rho/rho_b). \n",
    "\n",
    "<b>Footer</b> - After the profile, the results of the adsorption sum rule (explained below) are printed. Any other measures you call to be output to file will also go here.\n",
    "\n",
    "Other outputs will be explained throughout these tutorials."
   ]
  },
  {
   "cell_type": "markdown",
   "metadata": {},
   "source": [
    "<h3>Planar Hard Wall </h3>\n",
    "We begin by defining the non-geometry specific object. This takes a minimimum of three arguments - the density of the hard-sphere fluid in the bulk (<i>bulk_density</i>), the temperature (<i>temperature</i>) and the fluid type (<i>fluid_type</i>). Within this tutorial, the latter with be a hard-sphere fluid, <b>fluid_type = 'HS'</b>. The temperature has no physical meaning within a hard-sphere fluid, so will be set to <b>temperature = 1.0</b>. Rather than density, it is more convenient to work with packing fractions with hard-sphere fluids, hence the function <i>density_from_packing_fraction</i> is supplied. Using these we then define the non-geometry specfic <i>DFT</i> object."
   ]
  },
  {
   "cell_type": "code",
   "execution_count": 2,
   "metadata": {},
   "outputs": [],
   "source": [
    "import cDFT.minimisation as minimise\n",
    "\n",
    "def density_from_packing_fraction(packing_fraction):\n",
    "    \"\"\"\n",
    "    Calculates the density of a hard-sphere fluid from\n",
    "    the packing fraction.\n",
    "    \n",
    "    Args:\n",
    "        packing_fraction(float): hard-sphere fluid packing fraction\n",
    "    Returns:\n",
    "        density(float): density of hard-sphere fluid\n",
    "    \"\"\"\n",
    "    \n",
    "    # Note that the diameter of a fluid particle is\n",
    "    # set to 1.0\n",
    "    density = 6.*packing_fraction/np.pi\n",
    "    \n",
    "    return density\n",
    "\n",
    "# Calculate the density of a hard-sphere fluid with\n",
    "# packing fraction 0.2\n",
    "density = density_from_packing_fraction(0.2)\n",
    "\n",
    "# Define a DFT object\n",
    "DFT = minimise.DFT( bulk_density=density,\n",
    "                    temperature=1.0,\n",
    "                    fluid_type='HS')"
   ]
  },
  {
   "cell_type": "markdown",
   "metadata": {},
   "source": [
    "At any point we can check the parameters using the <i>information</i> method."
   ]
  },
  {
   "cell_type": "code",
   "execution_count": 3,
   "metadata": {},
   "outputs": [
    {
     "name": "stdout",
     "output_type": "stream",
     "text": [
      "Fluid type: hard-sphere\n",
      "Temperature: 1.0\n",
      "Density of bulk fluid: 0.3819718634205489\n",
      "Functional: Rosenfeld\n",
      "Length of grid: 50.0 * diameter of a fluid particle\n",
      "Distance between grid points: 0.001 * diameter of a fluid particle\n"
     ]
    }
   ],
   "source": [
    "DFT.information()"
   ]
  },
  {
   "cell_type": "markdown",
   "metadata": {},
   "source": [
    "From this we can also see other parameters which can be set. These are the functional (<i>functional =</i>), the length of the grid (<i>L =</i>) and the distance between the grid points, or the discretisation (<i>dr</i>). We'll return to these later. \n",
    "\n",
    "We then define our geometry specfic object. Within this section, this is the <i>planar</i> object. It takes a minimum of two arguments - a DFT object (<i>cDFT = </i>) and a wall type (<i>wall_type =</i>). We will consider a hard wall (<b>wall_type = 'HW'</b>)."
   ]
  },
  {
   "cell_type": "code",
   "execution_count": 4,
   "metadata": {},
   "outputs": [],
   "source": [
    "planar = minimise.planar(cDFT=DFT,\n",
    "                         wall_type='HW')"
   ]
  },
  {
   "cell_type": "markdown",
   "metadata": {},
   "source": [
    "Again, if we want to check the paramaters of our object at any time, we can use the <i>information</i> method."
   ]
  },
  {
   "cell_type": "code",
   "execution_count": 5,
   "metadata": {},
   "outputs": [
    {
     "name": "stdout",
     "output_type": "stream",
     "text": [
      "Geometry: Planar Wall\n",
      "Wall type: Hard Wall\n",
      "Picard mixing parameter: 0.1\n",
      "Ng move frequency: 10 picard moves\n",
      "Output local compressibility: False\n",
      "Output local thermal susceptibility: False\n"
     ]
    }
   ],
   "source": [
    "planar.information()"
   ]
  },
  {
   "cell_type": "markdown",
   "metadata": {},
   "source": [
    "This also shows other parameters which can be set. The middle two of these, 'Picard mixing parameter' and 'Ng move frequency' relate to the methods used within the package when updating the density profile during the minimisation procedure. The default arguments will normally suffice for a hard-sphere fluid - the exception to this is for very dense packing fractions which will be discussed later. The latter two parameters will be discussed in Tutorial 3. \n",
    "\n",
    "To find the equilibrium density profile, we use the <i>minimise<i/> method."
   ]
  },
  {
   "cell_type": "code",
   "execution_count": 6,
   "metadata": {},
   "outputs": [
    {
     "name": "stdout",
     "output_type": "stream",
     "text": [
      "Convergence achieved in 76 attempts.\n"
     ]
    }
   ],
   "source": [
    "planar.minimise()"
   ]
  },
  {
   "cell_type": "markdown",
   "metadata": {},
   "source": [
    "The method minimises the grand potential of the fluid to its equilibrium value using the method outlined in the Introduction. We can then visualise the profile using the <i>plot</i> method."
   ]
  },
  {
   "cell_type": "code",
   "execution_count": 7,
   "metadata": {},
   "outputs": [
    {
     "data": {
      "image/png": "[encoded data removed]",
      "text/plain": [
       "<Figure size 432x288 with 1 Axes>"
      ]
     },
     "metadata": {
      "needs_background": "light"
     },
     "output_type": "display_data"
    }
   ],
   "source": [
    "planar.plot()    "
   ]
  },
  {
   "cell_type": "markdown",
   "metadata": {},
   "source": [
    "Here we have plotted in relation to the bulk density. This can be accessed using <i>planar.DFT.bulk_density</i>.\n",
    "\n",
    "The numerical consistency of the procedure can be checked using statistical mechanics sum rules. These are formally exact equations which relate microscopic and macroscopic properties of a system. The cDFT package implements two sum rules - the adsorption sum rule and the contact theorem sum rule, see section 4.1.5 of my thesis (link to be added when available) for more details. It does so by calculating either side of the equation separately, and then comparing them to find the relative error. If the minimisation is numerically consistent, this error should be small.\n",
    "\n",
    "The appropriate form of the contact theorem can be accessed using the <i>contact_sum_rule</i> method."
   ]
  },
  {
   "cell_type": "code",
   "execution_count": 8,
   "metadata": {},
   "outputs": [
    {
     "name": "stdout",
     "output_type": "stream",
     "text": [
      "\n",
      "--------------------------------------------\n",
      "Contact Sum Rule Results:\n",
      "pressure = 0.9250881067\n",
      "kbT*rho(0) = 0.9250876743\n",
      "Relative Error = 0.0000004674\n",
      "--------------------------------------------\n",
      "\n"
     ]
    }
   ],
   "source": [
    "planar.contact_sum_rule()"
   ]
  },
  {
   "cell_type": "markdown",
   "metadata": {},
   "source": [
    "The relative error here for a packing fraction of 0.2 and default grid parameters should be in the region of the seventh decimal place. This shows that the minimisation procedure obeyed the sum rule. (Note - the lines above the relative error relate to the variables on either side of the sum rule. More details can be found in my thesis).\n",
    "\n",
    "The adsorption sum rule can be accessed using the <i>adsorption_sum_rule</i> method."
   ]
  },
  {
   "cell_type": "code",
   "execution_count": 9,
   "metadata": {},
   "outputs": [
    {
     "name": "stdout",
     "output_type": "stream",
     "text": [
      "\n",
      "--------------------------------------------\n",
      "Adsorption Sum Rule Results:\n",
      "Gamma/A = 0.0860102439\n",
      "-dgamma/dmu = 0.0863166786\n",
      "Relative error = 0.0035627703\n",
      "--------------------------------------------\n"
     ]
    }
   ],
   "source": [
    "planar.adsorption_sum_rule()"
   ]
  },
  {
   "cell_type": "markdown",
   "metadata": {},
   "source": [
    "This sum rule is also obeyed however features a larger relative error. This is due to the numerical derivative required during its evaluation. In general, for the default parameters, this sum rule should be obeyed to three decimal places.\n",
    "\n",
    "As mentioned above, the package supports three functionals - Rosenfeld (RF), White-Bear (WB) and White-Bear Mark II (WBII). At low packing fractions, these give near identical equilibrium density profiles. The same is not true for high packing fractions near to the freezing transition. This is due to the different equations of state underlying each functional - see the references above for more details. We can see these differences clearly for a packing fraction of 0.42. For such a dense fluid, the default Picard mixing and Ng move frequency will cause the minimisation procedure to overshoot and oscillate. To ensure stability, it is therefore necessary to reduce the former and increase the latter. Below is a function which compares all functionals available. <b>Note - This code will take approximately an hour to run.</b> "
   ]
  },
  {
   "cell_type": "code",
   "execution_count": 10,
   "metadata": {},
   "outputs": [],
   "source": [
    "def compare_functionals(packing_fraction, picard_mixing = 0.1, ng = 10):\n",
    "    \"\"\"\n",
    "    Compares all functionals available for a given\n",
    "    packing fraction.\n",
    "    \n",
    "    Args:\n",
    "        None\n",
    "    Returns:\n",
    "        None\n",
    "    \"\"\"\n",
    "    # Calculate the density of a hard-sphere fluid\n",
    "    density = density_from_packing_fraction(packing_fraction)\n",
    "\n",
    "    # Define functionals\n",
    "    RF = minimise.DFT(bulk_density=density, temperature=1.0, fluid_type='HS', functional = 'RF')\n",
    "    WB = minimise.DFT(bulk_density=density, temperature=1.0, fluid_type='HS', functional = 'WB')\n",
    "    WBII = minimise.DFT(bulk_density=density, temperature=1.0, fluid_type='HS', functional = 'WBII')\n",
    "    \n",
    "    # Define geometry\n",
    "    planar_RF = minimise.planar(RF, wall_type = 'HW', alpha = picard_mixing, ng = ng)\n",
    "    planar_WB = minimise.planar(WB, wall_type = 'HW', alpha = picard_mixing, ng = ng)\n",
    "    planar_WBII = minimise.planar(WBII, wall_type = 'HW', alpha = picard_mixing, ng = ng)\n",
    "    \n",
    "    # Find equilibrium profile\n",
    "    planar_RF.minimise()\n",
    "    planar_WB.minimise()\n",
    "    planar_WBII.minimise()\n",
    "    \n",
    "    # Plot\n",
    "    z, RF_density = planar_RF.equilibrium_profile()\n",
    "    z, WB_density = planar_WB.equilibrium_profile()\n",
    "    z, WBII_density = planar_WBII.equilibrium_profile()\n",
    "    \n",
    "    fig = plt.figure()\n",
    "    ax_main = fig.add_subplot(111)\n",
    "    ax_inset = ax_main.inset_axes([0.55,0.55,0.4,0.4], \n",
    "                                 transform = ax_main.transAxes)\n",
    "    \n",
    "    L = int(0.2*planar.DFT.L/planar.DFT.dr)\n",
    "    ax_main.plot(z[:L], RF_density[:L]/density, color = 'steelblue',\n",
    "                label = 'Rosenfeld', ls='solid')\n",
    "    ax_main.plot(z[:L], WB_density[:L]/density, color = 'palevioletred',\n",
    "                label = 'White-Bear', ls='dashed')\n",
    "    ax_main.plot(z[:L], WBII_density[:L]/density, color = 'rosybrown',\n",
    "                label = 'White-Bear Mark II', ls='dotted')\n",
    "    \n",
    "    contact = 0.5*np.ceil(RF_density[0]/(density*0.5))\n",
    "    ax_main.set_xlim(0.0,z[L])\n",
    "    ax_main.set_ylim(0.0,contact)\n",
    "    ax_main.tick_params(right=True, top=True, direction='in')\n",
    "    ax_main.set_xlabel(r'$z/\\sigma$')\n",
    "    ax_main.set_ylabel(r'$\\rho(z)/\\rho_b$')\n",
    "    ax_main.legend(loc = 'upper left', frameon = False)\n",
    "    \n",
    "    L = int(0.001*planar.DFT.L/planar.DFT.dr)\n",
    "    ax_inset.plot(z[:L], RF_density[:L]/density, color = 'steelblue', ls='solid')\n",
    "    ax_inset.plot(z[:L], WB_density[:L]/density, color = 'palevioletred', ls='dashed')\n",
    "    ax_inset.plot(z[:L], WBII_density[:L]/density, color = 'rosybrown', ls='dotted')\n",
    "    \n",
    "    ax_inset.set_xlim(0.0,z[L])\n",
    "    ax_inset.tick_params(right=True, top=True, direction='in')\n",
    "    ax_inset.set_xlabel(r'$z/\\sigma$')\n",
    "    ax_inset.set_ylabel(r'$\\rho(z)/\\rho_b$')\n",
    "\n",
    "#compare_functionals(packing_fraction=0.42, picard_mixing = 0.001, ng = 1000000)"
   ]
  },
  {
   "cell_type": "markdown",
   "metadata": {},
   "source": [
    "It should be further noted that none of these functionals are able to accurately reproduce the freezing transition due to a diverging free energy term in the one-dimensional limit. An accurate description of a hard-sphere crystal in fact requires tensorial weighted densities. These are not supported within the package.  \n",
    "\n",
    "<h3>Spherical Hard Wall (Solute)</h3>\n",
    "Spherical external potentials, or solutes, can be declared using <i>minimise.spherical</i>. Like the <i>minimise.planar</i> object, this takes a <i>minimise.DFT</i> object and <i>wall_type</i> as required arguments. In addition, a radius for the solute, in units of fluid particle diameters, must be supplied (<i>Rs</i>). Rs can take any value larger than 1. Once declared, properties of the object can be viewed using the <i>information</i> method."
   ]
  },
  {
   "cell_type": "code",
   "execution_count": 11,
   "metadata": {},
   "outputs": [
    {
     "name": "stdout",
     "output_type": "stream",
     "text": [
      "Geometry: Spherical Wall\n",
      "Radius: 100.0 * diameter of a fluid particle\n",
      "Wall type: Hard Wall\n",
      "Picard mixing parameter: 0.1\n",
      "Ng move frequency: 10 picard moves\n",
      "Output local compressibility: False\n",
      "Output local thermal susceptibility: False\n"
     ]
    }
   ],
   "source": [
    "solute = minimise.spherical(DFT,\n",
    "                            Rs = 100.0,\n",
    "                            wall_type = 'HW')\n",
    "\n",
    "solute.information()"
   ]
  },
  {
   "cell_type": "markdown",
   "metadata": {},
   "source": [
    "It should be noted that the package defines the density profile from the centre of the fluid particles and the radius of the spherical wall as the first point at which the density profile becomes non-zero. The importance of this will become evident when considering a test particle below. For more information on the system set up please consult my thesis (available December 2021) or <a href = https://doi.org/10.1103/PhysRevE.68.031602>this paper</a>. \n",
    "\n",
    "The equilibrium density profile is found using the <i>minimise</i> method. Once this has been found, the numerical consistency of the minimisation can be tested using the adsorption and contact sum rules. The adsorption sum rule is found in the same way irrespective of wall geometry. In contrast, the contact sum rule is found differently and can in fact take two forms. The package will calculate each of these. For more information on these sum rules, please see this paper."
   ]
  },
  {
   "cell_type": "code",
   "execution_count": 12,
   "metadata": {},
   "outputs": [
    {
     "name": "stdout",
     "output_type": "stream",
     "text": [
      "Convergence achieved in 75 attempts.\n",
      "\n",
      "--------------------------------------------\n",
      "Adsorption Sum Rule Results:\n",
      "Gamma/A = 0.0857785568\n",
      "-dgamma/dmu = 0.0860842336\n",
      "Relative error = 0.0035635575\n",
      "--------------------------------------------\n",
      "\n",
      "----------------------------------------------------\n",
      "Contact Sum Rule A:\n",
      "beta*d(omega)/(dRb) = 115901.5102799497\n",
      "4piRs^2rho(Rs) = 115899.8385251116\n",
      "Relative Error = 0.0000144241\n",
      "\n",
      "Contact Sum Rule B:\n",
      "kbTrho(Rs) = 0.9223016102\n",
      "p + 2gamma/Rs + dgamma/dRs = 0.9222872169\n",
      "Relative Error = 0.0000156059\n",
      "-----------------------------------------------------\n",
      "\n"
     ]
    }
   ],
   "source": [
    "solute.minimise()\n",
    "solute.adsorption_sum_rule()\n",
    "solute.contact_sum_rule()"
   ]
  },
  {
   "cell_type": "markdown",
   "metadata": {},
   "source": [
    "The adsorption sum rule is satisfied to the same precision as in the planar wall case. The agreement in either form of the contact sum rule is not as good as in the planar case, typically only agreeing to five decimal places. This is to be expected due to the necessity to evaluate a numerical derivative.\n",
    "\n",
    "The solute profile can be plotted in much the same way as in the case of a planar wall and takes much the same form."
   ]
  },
  {
   "cell_type": "code",
   "execution_count": 13,
   "metadata": {},
   "outputs": [
    {
     "data": {
      "image/png": "[encoded data removed]",
      "text/plain": [
       "<Figure size 432x288 with 1 Axes>"
      ]
     },
     "metadata": {
      "needs_background": "light"
     },
     "output_type": "display_data"
    }
   ],
   "source": [
    "solute.plot()"
   ]
  },
  {
   "cell_type": "markdown",
   "metadata": {},
   "source": [
    "The package also supports the study of a hard-sphere test particle. As the density profile is measured from the centre of the fluid particles, the radius of the spherical wall should be set to <i>Rs=1</i> for a test particle. "
   ]
  },
  {
   "cell_type": "code",
   "execution_count": 14,
   "metadata": {},
   "outputs": [
    {
     "name": "stdout",
     "output_type": "stream",
     "text": [
      "Geometry: Spherical Wall\n",
      "Radius: 1.0 * diameter of a fluid particle\n",
      "Wall type: Hard Wall\n",
      "Picard mixing parameter: 0.1\n",
      "Ng move frequency: 10 picard moves\n",
      "Output local compressibility: False\n",
      "Output local thermal susceptibility: False\n",
      "\n",
      "\n",
      "Convergence achieved in 72 attempts.\n",
      "\n",
      "--------------------------------------------\n",
      "Adsorption Sum Rule Results:\n",
      "Gamma/A = 0.0649433777\n",
      "-dgamma/dmu = 0.0652608675\n",
      "Relative error = 0.0048887160\n",
      "--------------------------------------------\n",
      "\n",
      "----------------------------------------------------\n",
      "Contact Sum Rule A:\n",
      "beta*d(omega)/(dRb) = 8.4998489183\n",
      "4piRs^2rho(Rs) = 8.4877784924\n",
      "Relative Error = 0.0014220948\n",
      "\n",
      "Contact Sum Rule B:\n",
      "kbTrho(Rs) = 0.6754359515\n",
      "p + 2gamma/Rs + dgamma/dRs = 0.6742878846\n",
      "Relative Error = 0.0016997420\n",
      "-----------------------------------------------------\n",
      "\n"
     ]
    },
    {
     "data": {
      "image/png": "[encoded data removed]",
      "text/plain": [
       "<Figure size 432x288 with 1 Axes>"
      ]
     },
     "metadata": {
      "needs_background": "light"
     },
     "output_type": "display_data"
    }
   ],
   "source": [
    "def test_particle():\n",
    "    \"\"\"\n",
    "    Finds the equilibrium density profile of a hard-sphere test particle\n",
    "    for the Rosenfeld functional. Prints the results of the adsorption\n",
    "    and contact sum rules and plots the equilibrium density profile.\n",
    "    \n",
    "    Args:\n",
    "        None\n",
    "    Returns:\n",
    "        None\n",
    "    \"\"\"\n",
    "    # Calculate the density of a hard-sphere fluid with\n",
    "    # packing fraction 0.2\n",
    "    density = density_from_packing_fraction(0.2)\n",
    "\n",
    "    # Define a DFT object\n",
    "    DFT = minimise.DFT(bulk_density=density,\n",
    "                       temperature=1.0,\n",
    "                       fluid_type='HS')\n",
    "    \n",
    "    test_part = minimise.spherical(DFT,\n",
    "                                    Rs=1.0,\n",
    "                                    wall_type = 'HW')\n",
    "    test_part.information()\n",
    "    print(f'\\n')\n",
    "    test_part.minimise()\n",
    "    test_part.plot()\n",
    "    test_part.adsorption_sum_rule()\n",
    "    test_part.contact_sum_rule()\n",
    "  \n",
    "test_particle()"
   ]
  },
  {
   "cell_type": "markdown",
   "metadata": {},
   "source": [
    "The agreement in the sum rules will decrease for the hard-sphere test particle and should all be of order three decimal places.\n",
    "\n",
    "<h3>Slit</h3>\n",
    "The final geometry supported in the package is a slit geometry. This is initialised using the <i>slit</i> object, which takes a DFT object along with the types of each wall as required arguments."
   ]
  },
  {
   "cell_type": "code",
   "execution_count": 15,
   "metadata": {},
   "outputs": [
    {
     "name": "stdout",
     "output_type": "stream",
     "text": [
      "Geometry: Slit\n",
      "Width: 50.0 * diameter of a fluid particle\n",
      "Left wall type: Hard Wall\n",
      "Right wall type: Hard Wall\n",
      "Picard mixing parameter: 0.1\n",
      "Ng move frequency: 10 picard moves\n",
      "Output local compressibility: False\n",
      "Output local thermal susceptibility: False\n"
     ]
    }
   ],
   "source": [
    "# Define a DFT object\n",
    "DFT = minimise.DFT(bulk_density=density,\n",
    "                   temperature=1.0,\n",
    "                   fluid_type='HS')\n",
    "\n",
    "# Define slit object\n",
    "slit = minimise.slit(DFT,\n",
    "                     left_wall_type = 'HW',\n",
    "                     right_wall_type = 'HW')\n",
    "\n",
    "# Print information about object\n",
    "slit.information()"
   ]
  },
  {
   "cell_type": "markdown",
   "metadata": {},
   "source": [
    "Just as with the other supported geometries, information about the object can be found using the <i>information</i> method, whilst the equilibrium density profile is found using the <i>minimise</i> method. The equilibrium density profile can be plotted using the <i>plot</i> method."
   ]
  },
  {
   "cell_type": "code",
   "execution_count": 16,
   "metadata": {},
   "outputs": [
    {
     "name": "stdout",
     "output_type": "stream",
     "text": [
      "Convergence achieved in 76 attempts.\n"
     ]
    },
    {
     "data": {
      "image/png": "[encoded data removed]",
      "text/plain": [
       "<Figure size 432x288 with 1 Axes>"
      ]
     },
     "metadata": {
      "needs_background": "light"
     },
     "output_type": "display_data"
    }
   ],
   "source": [
    "slit.minimise()\n",
    "slit.plot()"
   ]
  },
  {
   "cell_type": "markdown",
   "metadata": {},
   "source": [
    "The numerical consistency can then be calculated using the <i>adsorption_sum_rule</i> and <i>contact_sum_rule</i> as before. More information about the form of the contact sum rule for a slit can be found in <a href = https://doi.org/10.1103/PhysRevE.86.031601>this paper</a>."
   ]
  },
  {
   "cell_type": "code",
   "execution_count": 17,
   "metadata": {},
   "outputs": [
    {
     "name": "stdout",
     "output_type": "stream",
     "text": [
      "\n",
      "--------------------------------------------\n",
      "Adsorption Sum Rule Results:\n",
      "Gamma/A = 0.1720204877\n",
      "-dgamma/dmu = 0.1726332703\n",
      "Relative error = 0.0035622654\n",
      "--------------------------------------------\n",
      "\n",
      "----------------------------------------------------\n",
      "Left Wall = -0.00000000000000\n",
      "Right Wall = -0.00000000000000\n",
      "Relative Error = 0.00000000000000\n",
      "------------------------------------------------------\n"
     ]
    }
   ],
   "source": [
    "slit.adsorption_sum_rule()\n",
    "slit.contact_sum_rule()"
   ]
  },
  {
   "cell_type": "markdown",
   "metadata": {},
   "source": [
    "As in all other supported geometries, the adsorption sum rule is satisfied to at least three decimal places, whilst the contact sum rule is satisfied to far more.\n",
    "\n",
    "<h3>Up Next</h3>\n",
    "Within this tutorial, the abilities of the package with respect to hard-sphere fluids and hard walls/solutes has been outlined. In the next tutorial, we will consider the abilities of the package to represent Lennard-Jones fluids in each of the geomeries above, in addition to considering attractive wall/solute-fluid interactions."
   ]
  }
 ],
 "metadata": {
  "kernelspec": {
   "display_name": "Python 3 (ipykernel)",
   "language": "python",
   "name": "python3"
  },
  "language_info": {
   "codemirror_mode": {
    "name": "ipython",
    "version": 3
   },
   "file_extension": ".py",
   "mimetype": "text/x-python",
   "name": "python",
   "nbconvert_exporter": "python",
   "pygments_lexer": "ipython3",
   "version": "3.9.7"
  }
 },
 "nbformat": 4,
 "nbformat_minor": 4
}
